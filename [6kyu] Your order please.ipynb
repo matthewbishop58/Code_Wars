{
 "cells": [
  {
   "cell_type": "markdown",
   "metadata": {},
   "source": [
    "Your task is to sort a given string. Each word in the string will contain a single number. This number is the position the word should have in the result.\n",
    "\n",
    "Note: Numbers can be from 1 to 9. So 1 will be the first word (not 0).\n",
    "\n",
    "If the input string is empty, return an empty string. The words in the input String will only contain valid consecutive numbers.\n",
    "\n",
    "Examples\n",
    "\"is2 Thi1s T4est 3a\"  -->  \"Thi1s is2 3a T4est\"\n",
    "\"4of Fo1r pe6ople g3ood th5e the2\"  -->  \"Fo1r the2 g3ood 4of th5e pe6ople\"\n",
    "\"\"  -->  \"\""
   ]
  },
  {
   "cell_type": "code",
   "execution_count": 1,
   "metadata": {},
   "outputs": [],
   "source": [
    "def order(sentence):\n",
    "    words = []\n",
    "    for i in range(1, 10):\n",
    "        for word in sentence.split():\n",
    "            if str(i) in word:\n",
    "                words.append(word)\n",
    "                \n",
    "    return ' '. join(words)"
   ]
  },
  {
   "cell_type": "code",
   "execution_count": 2,
   "metadata": {},
   "outputs": [
    {
     "name": "stdout",
     "output_type": "stream",
     "text": [
      "Thi1s is2 3a T4est Thi1s is2 3a T4est\n",
      "Fo1r the2 g3ood 4of th5e pe6ople Fo1r the2 g3ood 4of th5e pe6ople\n",
      " \n"
     ]
    }
   ],
   "source": [
    "print(order(\"is2 Thi1s T4est 3a\"), \"Thi1s is2 3a T4est\")\n",
    "print(order(\"4of Fo1r pe6ople g3ood th5e the2\"), \"Fo1r the2 g3ood 4of th5e pe6ople\")\n",
    "print(order(\"\"), \"\")"
   ]
  },
  {
   "cell_type": "code",
   "execution_count": null,
   "metadata": {},
   "outputs": [],
   "source": []
  }
 ],
 "metadata": {
  "kernelspec": {
   "display_name": "Python 3.10.7 64-bit (microsoft store)",
   "language": "python",
   "name": "python3"
  },
  "language_info": {
   "codemirror_mode": {
    "name": "ipython",
    "version": 3
   },
   "file_extension": ".py",
   "mimetype": "text/x-python",
   "name": "python",
   "nbconvert_exporter": "python",
   "pygments_lexer": "ipython3",
   "version": "3.10.7"
  },
  "orig_nbformat": 4,
  "vscode": {
   "interpreter": {
    "hash": "b4d981aab3083155095c2c074466ed07152749282d0ee32df655ab9e7e91ca8e"
   }
  }
 },
 "nbformat": 4,
 "nbformat_minor": 2
}
