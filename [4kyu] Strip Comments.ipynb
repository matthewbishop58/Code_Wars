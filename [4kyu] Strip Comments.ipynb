{
 "cells": [
  {
   "cell_type": "markdown",
   "metadata": {},
   "source": [
    "Complete the solution so that it strips all text that follows any of a set of comment markers passed in. Any whitespace at the end of the line should also be stripped out.\n",
    "\n",
    "Example:\n",
    "\n",
    "Given an input string of:\n",
    "\n",
    "apples, pears # and bananas\n",
    "grapes\n",
    "bananas !apples\n",
    "The output expected would be:\n",
    "\n",
    "apples, pears\n",
    "grapes\n",
    "bananas\n",
    "The code would be called like so:\n",
    "\n",
    "result = solution(\"apples, pears # and bananas\\ngrapes\\nbananas !apples\", [\"#\", \"!\"])\n",
    " result should == \"apples, pears\\ngrapes\\nbananas\""
   ]
  },
  {
   "cell_type": "code",
   "execution_count": 28,
   "metadata": {},
   "outputs": [],
   "source": [
    "def strip_comments(string,markers):\n",
    "    s_list = string.split(\"\\n\")\n",
    "    n_list = []\n",
    "\n",
    "    for item in s_list:\n",
    "        s = \"\"\n",
    "        for char in item:\n",
    "            if char in markers:\n",
    "                break\n",
    "            else:\n",
    "                s = s + char\n",
    "        n_list.append(s.rstrip())\n",
    "    return \"\\n\".join(n_list)\n",
    "\n",
    "                \n",
    "                \n",
    "            \n",
    "\n",
    "                \n",
    "            "
   ]
  },
  {
   "cell_type": "code",
   "execution_count": 29,
   "metadata": {},
   "outputs": [
    {
     "name": "stdout",
     "output_type": "stream",
     "text": [
      "apples, pears\n",
      "grapes\n",
      "bananas apples, pears\n",
      "grapes\n",
      "bananas\n",
      "a\n",
      "c\n",
      "d a\n",
      "c\n",
      "d\n",
      " a\n",
      "c\n",
      "d  a\n",
      "c\n",
      "d\n"
     ]
    }
   ],
   "source": [
    "print(strip_comments('apples, pears # and bananas\\ngrapes\\nbananas !apples', ['#', '!']), 'apples, pears\\ngrapes\\nbananas')\n",
    "print(strip_comments('a #b\\nc\\nd $e f g', ['#', '$']), 'a\\nc\\nd')\n",
    "print(strip_comments(' a #b\\nc\\nd $e f g', ['#', '$']), ' a\\nc\\nd')"
   ]
  },
  {
   "cell_type": "code",
   "execution_count": null,
   "metadata": {},
   "outputs": [],
   "source": []
  }
 ],
 "metadata": {
  "kernelspec": {
   "display_name": "Python 3.8.8 ('base')",
   "language": "python",
   "name": "python3"
  },
  "language_info": {
   "codemirror_mode": {
    "name": "ipython",
    "version": 3
   },
   "file_extension": ".py",
   "mimetype": "text/x-python",
   "name": "python",
   "nbconvert_exporter": "python",
   "pygments_lexer": "ipython3",
   "version": "3.8.8"
  },
  "orig_nbformat": 4,
  "vscode": {
   "interpreter": {
    "hash": "b6d03b160a02bc6190cc4ff94cf13fc7839bd39d9ee05d9b4d380bbb7cc69248"
   }
  }
 },
 "nbformat": 4,
 "nbformat_minor": 2
}
