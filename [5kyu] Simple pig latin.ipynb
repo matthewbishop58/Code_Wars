{
 "cells": [
  {
   "cell_type": "markdown",
   "metadata": {},
   "source": [
    "Move the first letter of each word to the end of it, then add \"ay\" to the end of the word. Leave punctuation marks untouched.\n",
    "pig_it('Pig latin is cool') # igPay atinlay siay oolcay\n",
    "pig_it('Hello world !')     # elloHay orldway !"
   ]
  },
  {
   "cell_type": "code",
   "execution_count": 21,
   "metadata": {},
   "outputs": [],
   "source": [
    "def pig_it(text):\n",
    "    words = text.split(' ')\n",
    "    pig_text = ' '\n",
    "    \n",
    "    for word in words:\n",
    "        if word in '!.,:;?&':\n",
    "            pig_text += word\n",
    "        else:\n",
    "            pig_word = word[1:] + word[0] + 'ay'\n",
    "            \n",
    "            pig_text = pig_text + pig_word + ' '\n",
    "        \n",
    "    return pig_text.strip(' ')\n",
    "    "
   ]
  },
  {
   "cell_type": "code",
   "execution_count": 22,
   "metadata": {},
   "outputs": [
    {
     "name": "stdout",
     "output_type": "stream",
     "text": [
      "igPay atinlay siay oolcay igPay atinlay siay oolcay\n",
      "hisTay siay ymay tringsay hisTay siay ymay tringsay\n"
     ]
    }
   ],
   "source": [
    "print(pig_it('Pig latin is cool'),'igPay atinlay siay oolcay')\n",
    "print(pig_it('This is my string'),'hisTay siay ymay tringsay')"
   ]
  },
  {
   "cell_type": "code",
   "execution_count": null,
   "metadata": {},
   "outputs": [],
   "source": []
  }
 ],
 "metadata": {
  "kernelspec": {
   "display_name": "Python 3.8.8 ('base')",
   "language": "python",
   "name": "python3"
  },
  "language_info": {
   "codemirror_mode": {
    "name": "ipython",
    "version": 3
   },
   "file_extension": ".py",
   "mimetype": "text/x-python",
   "name": "python",
   "nbconvert_exporter": "python",
   "pygments_lexer": "ipython3",
   "version": "3.8.8"
  },
  "orig_nbformat": 4,
  "vscode": {
   "interpreter": {
    "hash": "b6d03b160a02bc6190cc4ff94cf13fc7839bd39d9ee05d9b4d380bbb7cc69248"
   }
  }
 },
 "nbformat": 4,
 "nbformat_minor": 2
}
