{
 "cells": [
  {
   "cell_type": "markdown",
   "metadata": {},
   "source": [
    "You probably know the \"like\" system from Facebook and other pages. People can \"like\" blog posts, pictures or other items. We want to create the text that should be displayed next to such an item.\n",
    "\n",
    "Implement the function which takes an array containing the names of people that like an item. It must return the display text as shown in the examples:\n",
    "\n",
    "[]                                -->  \"no one likes this\"\n",
    "[\"Peter\"]                         -->  \"Peter likes this\"\n",
    "[\"Jacob\", \"Alex\"]                 -->  \"Jacob and Alex like this\"\n",
    "[\"Max\", \"John\", \"Mark\"]           -->  \"Max, John and Mark like this\"\n",
    "[\"Alex\", \"Jacob\", \"Mark\", \"Max\"]  -->  \"Alex, Jacob and 2 others like this\"\n",
    "Note: For 4 or more names, the number in \"and 2 others\" simply increases."
   ]
  },
  {
   "cell_type": "code",
   "execution_count": 1,
   "metadata": {},
   "outputs": [],
   "source": [
    "def likes(names):\n",
    "    if len(names) == 0:\n",
    "        return 'no one likes this'\n",
    "    elif len(names) == 1:\n",
    "        return names[0] + \" likes this\"\n",
    "    elif len(names) == 2:\n",
    "        return names[0] + ' and ' + names[1] + ' like this'\n",
    "    elif len(names) == 3:\n",
    "        return names[0] + ', ' + names[1] + ' and ' + names[2] + ' like this'\n",
    "    else:\n",
    "        return names[0] + ', ' + names[1] + ' and ' + str(len(names)-2) + ' others like this'"
   ]
  },
  {
   "cell_type": "code",
   "execution_count": 2,
   "metadata": {},
   "outputs": [
    {
     "name": "stdout",
     "output_type": "stream",
     "text": [
      "no one likes this no one likes this\n",
      "Peter likes this Peter likes this\n",
      "Jacob and Alex like this Jacob and Alex like this\n",
      "Max, John and Mark like this Max, John and Mark like this\n",
      "Alex, Jacob and 2 others like this Alex, Jacob and 2 others like this\n"
     ]
    }
   ],
   "source": [
    "print(likes([]), 'no one likes this')\n",
    "print(likes(['Peter']), 'Peter likes this')\n",
    "print(likes(['Jacob', 'Alex']), 'Jacob and Alex like this')\n",
    "print(likes(['Max', 'John', 'Mark']), 'Max, John and Mark like this')\n",
    "print(likes(['Alex', 'Jacob', 'Mark', 'Max']), 'Alex, Jacob and 2 others like this')"
   ]
  },
  {
   "cell_type": "code",
   "execution_count": null,
   "metadata": {},
   "outputs": [],
   "source": []
  }
 ],
 "metadata": {
  "kernelspec": {
   "display_name": "Python 3.10.7 64-bit (microsoft store)",
   "language": "python",
   "name": "python3"
  },
  "language_info": {
   "codemirror_mode": {
    "name": "ipython",
    "version": 3
   },
   "file_extension": ".py",
   "mimetype": "text/x-python",
   "name": "python",
   "nbconvert_exporter": "python",
   "pygments_lexer": "ipython3",
   "version": "3.10.7"
  },
  "orig_nbformat": 4,
  "vscode": {
   "interpreter": {
    "hash": "b4d981aab3083155095c2c074466ed07152749282d0ee32df655ab9e7e91ca8e"
   }
  }
 },
 "nbformat": 4,
 "nbformat_minor": 2
}
