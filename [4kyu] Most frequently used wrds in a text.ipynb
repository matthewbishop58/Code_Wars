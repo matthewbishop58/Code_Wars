{
 "cells": [
  {
   "cell_type": "markdown",
   "metadata": {},
   "source": [
    "Write a function that, given a string of text (possibly with punctuation and line-breaks), returns an array of the top-3 most occurring words, in descending order of the number of occurrences.\n",
    "\n",
    "Assumptions:\n",
    "A word is a string of letters (A to Z) optionally containing one or more apostrophes (') in ASCII.\n",
    "Apostrophes can appear at the start, middle or end of a word ('abc, abc', 'abc', ab'c are all valid)\n",
    "Any other characters (e.g. #, \\, / , . ...) are not part of a word and should be treated as whitespace.\n",
    "Matches should be case-insensitive, and the words in the result should be lowercased.\n",
    "Ties may be broken arbitrarily.\n",
    "If a text contains fewer than three unique words, then either the top-2 or top-1 words should be returned, or an empty array if a text contains no words."
   ]
  },
  {
   "cell_type": "code",
   "execution_count": null,
   "metadata": {},
   "outputs": [],
   "source": [
    "import re\n",
    "from collections import Counter\n",
    "\n",
    "def top_3_words(text):\n",
    "    words = re.findall(r\"[a-z']*[a-z]+[a-z']*\", text.lower())\n",
    "    top_3 = Counter(words).most_common(3)\n",
    "    \n",
    "    return [item[0] for item in top_3]"
   ]
  },
  {
   "cell_type": "code",
   "execution_count": null,
   "metadata": {},
   "outputs": [],
   "source": [
    "print(top_3_words(\"a a a  b  c c  d d d d  e e e e e\"), [\"e\", \"d\", \"a\"])\n",
    "print(top_3_words(\"e e e e DDD ddd DdD: ddd ddd aa aA Aa, bb cc cC e e e\"), [\"e\", \"ddd\", \"aa\"])\n",
    "print(top_3_words(\"  //wont won't won't \"), [\"won't\", \"wont\"])\n",
    "print(top_3_words(\"  , e   .. \"), [\"e\"])\n",
    "print(top_3_words(\"  ...  \"), [])\n",
    "print(top_3_words(\"  '  \"), [])\n",
    "print(top_3_words(\"  '''  \"), [])\n",
    "print(top_3_words(\"\"\"In a village of La Mancha, the name of which I have no desire to call to\n",
    "mind, there lived not long since one of those gentlemen that keep a lance\n",
    "in the lance-rack, an old buckler, a lean hack, and a greyhound for\n",
    "coursing. An olla of rather more beef than mutton, a salad on most\n",
    "nights, scraps on Saturdays, lentils on Fridays, and a pigeon or so extra\n",
    "on Sundays, made away with three-quarters of his income.\"\"\"), [\"a\", \"of\", \"on\"])"
   ]
  },
  {
   "cell_type": "code",
   "execution_count": null,
   "metadata": {},
   "outputs": [],
   "source": []
  }
 ],
 "metadata": {
  "kernelspec": {
   "display_name": "Python 3.8.8 ('base')",
   "language": "python",
   "name": "python3"
  },
  "language_info": {
   "name": "python",
   "version": "3.8.8"
  },
  "orig_nbformat": 4,
  "vscode": {
   "interpreter": {
    "hash": "b6d03b160a02bc6190cc4ff94cf13fc7839bd39d9ee05d9b4d380bbb7cc69248"
   }
  }
 },
 "nbformat": 4,
 "nbformat_minor": 2
}
