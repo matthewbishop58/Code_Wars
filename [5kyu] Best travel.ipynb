{
 "cells": [
  {
   "cell_type": "markdown",
   "metadata": {},
   "source": [
    "John and Mary want to travel between a few towns A, B, C ... Mary has on a sheet of paper a list of distances between these towns. ls = [50, 55, 57, 58, 60]. John is tired of driving and he says to Mary that he doesn't want to drive more than t = 174 miles and he will visit only 3 towns.\n",
    "\n",
    "Which distances, hence which towns, they will choose so that the sum of the distances is the biggest possible to please Mary and John?\n",
    "\n",
    "Example:\n",
    "With list ls and 3 towns to visit they can make a choice between: [50,55,57],[50,55,58],[50,55,60],[50,57,58],[50,57,60],[50,58,60],[55,57,58],[55,57,60],[55,58,60],[57,58,60].\n",
    "\n",
    "The sums of distances are then: 162, 163, 165, 165, 167, 168, 170, 172, 173, 175.\n",
    "\n",
    "The biggest possible sum taking a limit of 174 into account is then 173 and the distances of the 3 corresponding towns is [55, 58, 60].\n",
    "\n",
    "The function chooseBestSum (or choose_best_sum or ... depending on the language) will take as parameters t (maximum sum of distances, integer >= 0), k (number of towns to visit, k >= 1) and ls (list of distances, all distances are positive or zero integers and this list has at least one element). The function returns the \"best\" sum ie the biggest possible sum of k distances less than or equal to the given limit t, if that sum exists, or otherwise nil, null, None, Nothing, depending on the language. In that case with C, C++, D, Dart, Fortran, F#, Go, Julia, Kotlin, Nim, OCaml, Pascal, Perl, PowerShell, Reason, Rust, Scala, Shell, Swift return -1.\n",
    "\n",
    "Examples:\n",
    "ts = [50, 55, 56, 57, 58] choose_best_sum(163, 3, ts) -> 163\n",
    "\n",
    "xs = [50] choose_best_sum(163, 3, xs) -> nil (or null or ... or -1 (C++, C, D, Rust, Swift, Go, ...)\n",
    "\n",
    "ys = [91, 74, 73, 85, 73, 81, 87] choose_best_sum(230, 3, ys) -> 228\n",
    "\n",
    "Notes:\n",
    "try not to modify the input list of distances ls\n",
    "in some languages this \"list\" is in fact a string (see the Sample Tests)."
   ]
  },
  {
   "cell_type": "code",
   "execution_count": null,
   "metadata": {},
   "outputs": [],
   "source": [
    "import itertools\n",
    "\n",
    "def choose_best_sum(t, k, ls):\n",
    "    best_sum = 0\n",
    "    best_set = None\n",
    "    combinations = list(itertools.combinations(ls, k))\n",
    "    sums = [sum(i) for i in combinations]\n",
    "    sums2 = [ i for i in sums if i<=t]\n",
    "    if sums2 == []:\n",
    "        largest = None\n",
    "    else:\n",
    "        largest = max([i for i in sums if i<=t])\n",
    "    \n",
    "    return largest\n",
    "   "
   ]
  },
  {
   "cell_type": "code",
   "execution_count": null,
   "metadata": {},
   "outputs": [],
   "source": []
  }
 ],
 "metadata": {
  "kernelspec": {
   "display_name": "Python 3.8.8 ('base')",
   "language": "python",
   "name": "python3"
  },
  "language_info": {
   "name": "python",
   "version": "3.8.8"
  },
  "orig_nbformat": 4,
  "vscode": {
   "interpreter": {
    "hash": "b6d03b160a02bc6190cc4ff94cf13fc7839bd39d9ee05d9b4d380bbb7cc69248"
   }
  }
 },
 "nbformat": 4,
 "nbformat_minor": 2
}
