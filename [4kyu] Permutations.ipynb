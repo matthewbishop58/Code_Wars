{
 "cells": [
  {
   "cell_type": "markdown",
   "metadata": {},
   "source": [
    "In this kata you have to create all permutations of a non empty input string and remove duplicates, if present. This means, you have to shuffle all letters from the input in all possible orders.\n",
    "\n",
    "Examples:\n",
    "\n",
    "* With input 'a'\n",
    "* Your function should return: ['a']\n",
    "* With input 'ab'\n",
    "* Your function should return ['ab', 'ba']\n",
    "* With input 'aabb'\n",
    "* Your function should return ['aabb', 'abab', 'abba', 'baab', 'baba', 'bbaa']\n",
    "The order of the permutations doesn't matter."
   ]
  },
  {
   "cell_type": "code",
   "execution_count": 13,
   "metadata": {},
   "outputs": [],
   "source": [
    "import itertools\n",
    "def permutations(s):\n",
    "    lst = [''.join(i) for i in itertools.permutations(s)] \n",
    "    unique = set(lst)\n",
    "    \n",
    "    return unique"
   ]
  },
  {
   "cell_type": "code",
   "execution_count": 14,
   "metadata": {},
   "outputs": [
    {
     "name": "stdout",
     "output_type": "stream",
     "text": [
      "{'a'} ['a']\n",
      "{'ba', 'ab'} ['ab', 'ba']\n",
      "{'baba', 'abab', 'bbaa', 'baab', 'abba', 'aabb'} ['aabb', 'abab', 'abba', 'baab', 'baba', 'bbaa']\n"
     ]
    }
   ],
   "source": [
    "print(permutations('a'), ['a'])\n",
    "print(permutations('ab'), ['ab', 'ba'])\n",
    "print(permutations('aabb'), ['aabb', 'abab', 'abba', 'baab', 'baba', 'bbaa'])\n"
   ]
  },
  {
   "cell_type": "code",
   "execution_count": null,
   "metadata": {},
   "outputs": [],
   "source": []
  }
 ],
 "metadata": {
  "kernelspec": {
   "display_name": "Python 3.10.8 64-bit (microsoft store)",
   "language": "python",
   "name": "python3"
  },
  "language_info": {
   "codemirror_mode": {
    "name": "ipython",
    "version": 3
   },
   "file_extension": ".py",
   "mimetype": "text/x-python",
   "name": "python",
   "nbconvert_exporter": "python",
   "pygments_lexer": "ipython3",
   "version": "3.10.8"
  },
  "orig_nbformat": 4,
  "vscode": {
   "interpreter": {
    "hash": "b4d981aab3083155095c2c074466ed07152749282d0ee32df655ab9e7e91ca8e"
   }
  }
 },
 "nbformat": 4,
 "nbformat_minor": 2
}
