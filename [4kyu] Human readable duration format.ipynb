{
 "cells": [
  {
   "cell_type": "markdown",
   "metadata": {},
   "source": [
    "Your task in order to complete this Kata is to write a function which formats a duration, given as a number of seconds, in a human-friendly way.\n",
    "\n",
    "The function must accept a non-negative integer. If it is zero, it just returns \"now\". Otherwise, the duration is expressed as a combination of years, days, hours, minutes and seconds.\n",
    "\n",
    "It is much easier to understand with an example:\n",
    "\n",
    "* For seconds = 62, your function should return \n",
    "    \"1 minute and 2 seconds\"\n",
    "* For seconds = 3662, your function should return\n",
    "    \"1 hour, 1 minute and 2 seconds\"\n",
    "For the purpose of this Kata, a year is 365 days and a day is 24 hours.\n",
    "\n",
    "Note that spaces are important.\n",
    "\n",
    "Detailed rules\n",
    "The resulting expression is made of components like 4 seconds, 1 year, etc. In general, a positive integer and one of the valid units of time, separated by a space. The unit of time is used in plural if the integer is greater than 1.\n",
    "\n",
    "The components are separated by a comma and a space (\", \"). Except the last component, which is separated by \" and \", just like it would be written in English.\n",
    "\n",
    "A more significant units of time will occur before than a least significant one. Therefore, 1 second and 1 year is not correct, but 1 year and 1 second is.\n",
    "\n",
    "Different components have different unit of times. So there is not repeated units like in 5 seconds and 1 second.\n",
    "\n",
    "A component will not appear at all if its value happens to be zero. Hence, 1 minute and 0 seconds is not valid, but it should be just 1 minute.\n",
    "\n",
    "A unit of time must be used \"as much as possible\". It means that the function should not return 61 seconds, but 1 minute and 1 second instead. Formally, the duration specified by of a component must not be greater than any valid more significant unit of time."
   ]
  },
  {
   "cell_type": "code",
   "execution_count": 1,
   "metadata": {},
   "outputs": [],
   "source": [
    "def format_duration(seconds):\n",
    "    words = ['year', 'day', 'hour', 'minute', 'second']\n",
    "    if seconds == 0:\n",
    "        return 'now'\n",
    "    else:\n",
    "        m,s = divmod(seconds,60)\n",
    "        h, m =divmod(m, 60)\n",
    "        d, h = divmod(h, 24)\n",
    "        y, d = divmod(d, 365)\n",
    "        \n",
    "        time = [y, d, h, m , s]\n",
    "        \n",
    "        duration = []\n",
    "        \n",
    "        for x, i in enumerate(time):\n",
    "            if i == 1:\n",
    "                duration.append(f\"{i} {words[x]}\")\n",
    "            elif i > 1:\n",
    "                duration.append(f\"{i} {words[x]}s\")\n",
    "            \n",
    "        if len(duration) == 1:\n",
    "            return duration[0]\n",
    "        elif len(duration) == 2:\n",
    "            return f\"{duration[0]} and {duration[1]}\"\n",
    "        else:\n",
    "            return ', '.join(duration[:-1]) + ' and ' + duration[-1]\n",
    "    "
   ]
  },
  {
   "cell_type": "code",
   "execution_count": 2,
   "metadata": {},
   "outputs": [
    {
     "name": "stdout",
     "output_type": "stream",
     "text": [
      "1 second 1 second\n",
      "1 minute and 2 seconds 1 minute and 2 seconds\n",
      "2 minutes 2 minutes\n",
      "1 hour 1 hour\n",
      "1 hour, 1 minute and 2 seconds 1 hour, 1 minute and 2 seconds\n"
     ]
    }
   ],
   "source": [
    "print(format_duration(1), \"1 second\")\n",
    "print(format_duration(62), \"1 minute and 2 seconds\")\n",
    "print(format_duration(120), \"2 minutes\")\n",
    "print(format_duration(3600), \"1 hour\")\n",
    "print(format_duration(3662), \"1 hour, 1 minute and 2 seconds\")"
   ]
  },
  {
   "cell_type": "code",
   "execution_count": null,
   "metadata": {},
   "outputs": [],
   "source": []
  }
 ],
 "metadata": {
  "kernelspec": {
   "display_name": "Python 3.8.8 ('base')",
   "language": "python",
   "name": "python3"
  },
  "language_info": {
   "codemirror_mode": {
    "name": "ipython",
    "version": 3
   },
   "file_extension": ".py",
   "mimetype": "text/x-python",
   "name": "python",
   "nbconvert_exporter": "python",
   "pygments_lexer": "ipython3",
   "version": "3.8.8"
  },
  "orig_nbformat": 4,
  "vscode": {
   "interpreter": {
    "hash": "b6d03b160a02bc6190cc4ff94cf13fc7839bd39d9ee05d9b4d380bbb7cc69248"
   }
  }
 },
 "nbformat": 4,
 "nbformat_minor": 2
}
