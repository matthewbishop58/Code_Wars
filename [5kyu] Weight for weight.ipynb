{
 "cells": [
  {
   "cell_type": "code",
   "execution_count": 11,
   "metadata": {},
   "outputs": [],
   "source": [
    "def order_weight(strng):\n",
    "    bar = sorted(strng.split(' '))\n",
    "    \n",
    "    baz = sorted(bar, key=foo)\n",
    "\n",
    "    return ' '.join(baz)\n",
    "\n",
    "def foo(n):\n",
    "    return sum([int(item) for item in n])"
   ]
  },
  {
   "cell_type": "code",
   "execution_count": 12,
   "metadata": {},
   "outputs": [
    {
     "name": "stdout",
     "output_type": "stream",
     "text": [
      "2000 103 123 4444 99 2000 103 123 4444 99\n",
      "11 11 2000 10003 22 123 1234000 44444444 9999 11 11 2000 10003 22 123 1234000 44444444 9999\n",
      " \n"
     ]
    }
   ],
   "source": [
    "print(order_weight(\"103 123 4444 99 2000\"), \"2000 103 123 4444 99\")\n",
    "print(order_weight(\"2000 10003 1234000 44444444 9999 11 11 22 123\"), \"11 11 2000 10003 22 123 1234000 44444444 9999\")\n",
    "print(order_weight(\"\"), \"\")"
   ]
  },
  {
   "cell_type": "code",
   "execution_count": null,
   "metadata": {},
   "outputs": [],
   "source": []
  }
 ],
 "metadata": {
  "kernelspec": {
   "display_name": "Python 3.10.7 64-bit (microsoft store)",
   "language": "python",
   "name": "python3"
  },
  "language_info": {
   "codemirror_mode": {
    "name": "ipython",
    "version": 3
   },
   "file_extension": ".py",
   "mimetype": "text/x-python",
   "name": "python",
   "nbconvert_exporter": "python",
   "pygments_lexer": "ipython3",
   "version": "3.10.7"
  },
  "orig_nbformat": 4,
  "vscode": {
   "interpreter": {
    "hash": "b4d981aab3083155095c2c074466ed07152749282d0ee32df655ab9e7e91ca8e"
   }
  }
 },
 "nbformat": 4,
 "nbformat_minor": 2
}
