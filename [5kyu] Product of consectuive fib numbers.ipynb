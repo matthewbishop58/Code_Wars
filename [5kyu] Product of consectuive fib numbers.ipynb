{
 "cells": [
  {
   "cell_type": "markdown",
   "metadata": {},
   "source": [
    "The Fibonacci numbers are the numbers in the following integer sequence (Fn):\n",
    "\n",
    "0, 1, 1, 2, 3, 5, 8, 13, 21, 34, 55, 89, 144, 233, ...\n",
    "\n",
    "such as\n",
    "\n",
    "F(n) = F(n-1) + F(n-2) with F(0) = 0 and F(1) = 1.\n",
    "\n",
    "Given a number, say prod (for product), we search two Fibonacci numbers F(n) and F(n+1) verifying\n",
    "\n",
    "F(n) * F(n+1) = prod.\n",
    "\n",
    "Your function productFib takes an integer (prod) and returns an array:\n",
    "\n",
    "[F(n), F(n+1), true] or {F(n), F(n+1), 1} or (F(n), F(n+1), True)\n",
    "depending on the language if F(n) * F(n+1) = prod.\n",
    "\n",
    "If you don't find two consecutive F(n) verifying F(n) * F(n+1) = prodyou will return\n",
    "\n",
    "[F(n), F(n+1), false] or {F(n), F(n+1), 0} or (F(n), F(n+1), False)\n",
    "F(n) being the smallest one such as F(n) * F(n+1) > prod.\n",
    "\n",
    "Some Examples of Return:\n",
    "(depend on the language)\n",
    "\n",
    "productFib(714)  should return (21, 34, true), \n",
    "                 since F(8) = 21, F(9) = 34 and 714 = 21 * 34\n",
    "\n",
    "productFib(800)  should return (34, 55, false), \n",
    "                 since F(8) = 21, F(9) = 34, F(10) = 55 and 21 * 34 < 800 < 34 * 55\n",
    "-----\n",
    "productFib(714)  should return [21, 34, true], \n",
    "productFib(800)  should return [34, 55, false], \n",
    "-----\n",
    "productFib(714)  should return {21, 34, 1}, \n",
    "productFib(800)  should return {34, 55, 0},        \n",
    "-----\n",
    "productFib(714)  should return {21, 34, true}, \n",
    "productFib(800)  should return {34, 55, false}, \n",
    "Note:\n",
    "You can see examples for your language in \"Sample Tests\"."
   ]
  },
  {
   "cell_type": "code",
   "execution_count": 13,
   "metadata": {},
   "outputs": [],
   "source": [
    "def productFib(prod):\n",
    "    # your code\n",
    "    Fib_sequence = [0, 1]\n",
    "    for i in range(2, prod):\n",
    "        Fib_sequence.append(Fib_sequence[i-1] + Fib_sequence[i-2])\n",
    "        if Fib_sequence[i] * Fib_sequence[i-1] == prod:\n",
    "            return [Fib_sequence[i-1], Fib_sequence[i], True]\n",
    "        elif Fib_sequence[i] * Fib_sequence[i-1] > prod:\n",
    "            return [Fib_sequence[i-1], Fib_sequence[i], False]"
   ]
  },
  {
   "cell_type": "code",
   "execution_count": 17,
   "metadata": {},
   "outputs": [],
   "source": [
    "\n",
    "def productFib(prod):\n",
    "    a, b = 0, 1\n",
    "    while prod> a * b:\n",
    "        temp = a\n",
    "        a = b\n",
    "        b = b + temp\n",
    "    \n",
    "    return  [a, b, prod == a*b]"
   ]
  },
  {
   "cell_type": "code",
   "execution_count": 18,
   "metadata": {},
   "outputs": [
    {
     "name": "stdout",
     "output_type": "stream",
     "text": [
      "[55, 89, True] [55, 89, True]\n",
      "[89, 144, False] [89, 144, False]\n"
     ]
    }
   ],
   "source": [
    "print(productFib(4895), [55, 89, True])\n",
    "print(productFib(5895), [89, 144, False])"
   ]
  },
  {
   "cell_type": "code",
   "execution_count": null,
   "metadata": {},
   "outputs": [],
   "source": []
  }
 ],
 "metadata": {
  "kernelspec": {
   "display_name": "Python 3.10.7 64-bit (microsoft store)",
   "language": "python",
   "name": "python3"
  },
  "language_info": {
   "codemirror_mode": {
    "name": "ipython",
    "version": 3
   },
   "file_extension": ".py",
   "mimetype": "text/x-python",
   "name": "python",
   "nbconvert_exporter": "python",
   "pygments_lexer": "ipython3",
   "version": "3.10.8"
  },
  "orig_nbformat": 4,
  "vscode": {
   "interpreter": {
    "hash": "b4d981aab3083155095c2c074466ed07152749282d0ee32df655ab9e7e91ca8e"
   }
  }
 },
 "nbformat": 4,
 "nbformat_minor": 2
}
