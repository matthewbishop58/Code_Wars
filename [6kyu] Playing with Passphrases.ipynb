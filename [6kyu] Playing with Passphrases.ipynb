{
 "cells": [
  {
   "cell_type": "markdown",
   "metadata": {},
   "source": [
    "Everyone knows passphrases. One can choose passphrases from poems, songs, movies names and so on but frequently they can be guessed due to common cultural references. You can get your passphrases stronger by different means. One is the following:\n",
    "\n",
    "choose a text in capital letters including or not digits and non alphabetic characters,\n",
    "\n",
    "shift each letter by a given number but the transformed letter must be a letter (circular shift),\n",
    "replace each digit by its complement to 9,\n",
    "keep such as non alphabetic and non digit characters,\n",
    "downcase each letter in odd position, upcase each letter in even position (the first character is in position 0),\n",
    "reverse the whole result.\n",
    "Example:\n",
    "your text: \"BORN IN 2015!\", shift 1\n",
    "\n",
    "1 + 2 + 3 -> \"CPSO JO 7984!\"\n",
    "\n",
    "4 \"CpSo jO 7984!\"\n",
    "\n",
    "5 \"!4897 Oj oSpC\"\n",
    "\n",
    "With longer passphrases it's better to have a small and easy program. Would you write it?"
   ]
  },
  {
   "cell_type": "code",
   "execution_count": 1,
   "metadata": {},
   "outputs": [],
   "source": [
    "def play_pass(s, n):\n",
    "    slower = s.lower()\n",
    "    change = ''\n",
    "    alphabet = 'abcdefghijklmnopqrstuvwxyz'\n",
    "\n",
    "    for i,char in list(enumerate(slower)):\n",
    "        if char in alphabet:\n",
    "            ind = (alphabet.index(char) + n)\n",
    "            if ind >= 26:\n",
    "                ind = ind % 26\n",
    "            if i % 2 == 0:\n",
    "                change += alphabet[ind].upper()\n",
    "            else:\n",
    "                change += alphabet[ind].lower()\n",
    "        elif char.isdigit():\n",
    "            change += str(9 - int(char))\n",
    "        else:\n",
    "            change += char\n",
    "\n",
    "    return change[::-1]"
   ]
  },
  {
   "cell_type": "code",
   "execution_count": 4,
   "metadata": {},
   "outputs": [
    {
     "name": "stdout",
     "output_type": "stream",
     "text": [
      "!!!vPz fWpM J !!!vPz fWpM J\n",
      "4897 NkTrC Hq fT67 GjV Pq aP OqTh gOcE CoPcTi aO 4897 NkTrC Hq fT67 GjV Pq aP OqTh gOcE CoPcTi aO\n"
     ]
    }
   ],
   "source": [
    "print(play_pass(\"I LOVE YOU!!!\", 1), \"!!!vPz fWpM J\")\n",
    "print(play_pass(\"MY GRANMA CAME FROM NY ON THE 23RD OF APRIL 2015\", 2), \"4897 NkTrC Hq fT67 GjV Pq aP OqTh gOcE CoPcTi aO\")"
   ]
  },
  {
   "cell_type": "code",
   "execution_count": null,
   "metadata": {},
   "outputs": [],
   "source": []
  }
 ],
 "metadata": {
  "kernelspec": {
   "display_name": "Python 3.8.8 ('base')",
   "language": "python",
   "name": "python3"
  },
  "language_info": {
   "codemirror_mode": {
    "name": "ipython",
    "version": 3
   },
   "file_extension": ".py",
   "mimetype": "text/x-python",
   "name": "python",
   "nbconvert_exporter": "python",
   "pygments_lexer": "ipython3",
   "version": "3.8.8"
  },
  "orig_nbformat": 4,
  "vscode": {
   "interpreter": {
    "hash": "b6d03b160a02bc6190cc4ff94cf13fc7839bd39d9ee05d9b4d380bbb7cc69248"
   }
  }
 },
 "nbformat": 4,
 "nbformat_minor": 2
}
