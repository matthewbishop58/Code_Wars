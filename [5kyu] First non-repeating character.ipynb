{
 "cells": [
  {
   "cell_type": "markdown",
   "metadata": {},
   "source": [
    "Write a function named first_non_repeating_letter that takes a string input, and returns the first character that is not repeated anywhere in the string.\n",
    "\n",
    "For example, if given the input 'stress', the function should return 't', since the letter t only occurs once in the string, and occurs first in the string.\n",
    "\n",
    "As an added challenge, upper- and lowercase letters are considered the same character, but the function should return the correct case for the initial letter. For example, the input 'sTreSS' should return 'T'.\n",
    "\n",
    "If a string contains all repeating characters, it should return an empty string (\"\") or None -- see sample tests.\n",
    "\n"
   ]
  },
  {
   "cell_type": "code",
   "execution_count": 2,
   "metadata": {},
   "outputs": [],
   "source": [
    "def first_non_repeating_letter(string):\n",
    "    list = [i.lower() for i in string]\n",
    "    for i in range(len(list)):\n",
    "        if list.count(string[i].lower()) == 1:\n",
    "            return string[i]\n",
    "    return ''"
   ]
  },
  {
   "cell_type": "code",
   "execution_count": 3,
   "metadata": {},
   "outputs": [
    {
     "name": "stdout",
     "output_type": "stream",
     "text": [
      "a a\n",
      "t t\n",
      "e e\n",
      " \n",
      " \n",
      " \n",
      "# #\n",
      "w w\n",
      "T T\n",
      ", ,\n"
     ]
    }
   ],
   "source": [
    "\n",
    "print(first_non_repeating_letter('a'), 'a')\n",
    "print(first_non_repeating_letter('stress'), 't')\n",
    "print(first_non_repeating_letter('moonmen'), 'e')\n",
    "print\n",
    "print(first_non_repeating_letter(''), '')\n",
    "print\n",
    "print(first_non_repeating_letter('abba'), '')\n",
    "print(first_non_repeating_letter('aa'), '')\n",
    "print\n",
    "print(first_non_repeating_letter('~><#~><'), '#')\n",
    "print(first_non_repeating_letter('hello world, eh?'), 'w')\n",
    "print\n",
    "print(first_non_repeating_letter('sTreSS'), 'T')\n",
    "print(first_non_repeating_letter('Go hang a salami, I\\'m a lasagna hog!'), ',')"
   ]
  },
  {
   "cell_type": "code",
   "execution_count": null,
   "metadata": {},
   "outputs": [],
   "source": []
  }
 ],
 "metadata": {
  "kernelspec": {
   "display_name": "Python 3.10.7 64-bit (microsoft store)",
   "language": "python",
   "name": "python3"
  },
  "language_info": {
   "codemirror_mode": {
    "name": "ipython",
    "version": 3
   },
   "file_extension": ".py",
   "mimetype": "text/x-python",
   "name": "python",
   "nbconvert_exporter": "python",
   "pygments_lexer": "ipython3",
   "version": "3.10.7"
  },
  "orig_nbformat": 4,
  "vscode": {
   "interpreter": {
    "hash": "b4d981aab3083155095c2c074466ed07152749282d0ee32df655ab9e7e91ca8e"
   }
  }
 },
 "nbformat": 4,
 "nbformat_minor": 2
}
