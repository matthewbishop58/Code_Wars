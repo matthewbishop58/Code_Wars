{
 "cells": [
  {
   "cell_type": "markdown",
   "metadata": {},
   "source": [
    "A format for expressing an ordered list of integers is to use a comma separated list of either\n",
    "\n",
    "individual integers\n",
    "or a range of integers denoted by the starting integer separated from the end integer in the range by a dash, '-'. The range includes all integers in the interval including both endpoints. It is not considered a range unless it spans at least 3 numbers. For example \"12,13,15-17\"\n",
    "Complete the solution so that it takes a list of integers in increasing order and returns a correctly formatted string in the range format.\n",
    "\n",
    "Example:\n",
    "\n",
    "solution([-10, -9, -8, -6, -3, -2, -1, 0, 1, 3, 4, 5, 7, 8, 9, 10, 11, 14, 15, 17, 18, 19, 20])\n",
    "returns \"-10--8,-6,-3-1,3-5,7-11,14,15,17-20\""
   ]
  },
  {
   "cell_type": "code",
   "execution_count": 1,
   "metadata": {},
   "outputs": [],
   "source": [
    "def solution(args):\n",
    "    recent = []\n",
    "    ranges = []\n",
    "    result = \"\"\n",
    "    last = args[0]\n",
    "\n",
    "    for argument in args:\n",
    "        if argument == last+1 or argument == last-1:\n",
    "            recent.insert(0,argument)\n",
    "        else:\n",
    "            if(len(recent) > 0):\n",
    "                ranges.append(appendRange(recent))\n",
    "                recent = clear(recent)\n",
    "            recent.insert(0,argument)\n",
    "        last = argument\n",
    "\n",
    "\n",
    "    if(len(recent) > 0):\n",
    "        ranges.append(appendRange(recent))\n",
    "\n",
    "    return \",\".join(ranges)\n",
    "\n",
    "def appendRange(nums):\n",
    "    if(len(nums) == 1):\n",
    "        return str(nums[0])\n",
    "    elif(len(nums) == 2):\n",
    "        return str(nums[1]) + \",\" + str(nums[0])\n",
    "    else:\n",
    "        return str(nums[len(nums)-1]) + \"-\" + str(nums[0])\n",
    "\n",
    "def clear(arr):\n",
    "    for value_i in range(0,len(arr)):\n",
    "        arr.pop(0)\n",
    "\n",
    "    return arr\n",
    "\n",
    "def printArray(arr):\n",
    "    string = \"[\"\n",
    "\n",
    "    for value in arr:\n",
    "        string += str(value) + \",\""
   ]
  },
  {
   "cell_type": "code",
   "execution_count": 2,
   "metadata": {},
   "outputs": [
    {
     "name": "stdout",
     "output_type": "stream",
     "text": [
      "-6,-3-1,3-5,7-11,14,15,17-20 -6,-3-1,3-5,7-11,14,15,17-20\n",
      "-3--1,2,10,15,16,18-20 -3--1,2,10,15,16,18-20\n"
     ]
    }
   ],
   "source": [
    "print(solution([-6,-3,-2,-1,0,1,3,4,5,7,8,9,10,11,14,15,17,18,19,20]), '-6,-3-1,3-5,7-11,14,15,17-20')\n",
    "print(solution([-3,-2,-1,2,10,15,16,18,19,20]), '-3--1,2,10,15,16,18-20')"
   ]
  },
  {
   "cell_type": "code",
   "execution_count": null,
   "metadata": {},
   "outputs": [],
   "source": []
  }
 ],
 "metadata": {
  "kernelspec": {
   "display_name": "Python 3.8.8 ('base')",
   "language": "python",
   "name": "python3"
  },
  "language_info": {
   "codemirror_mode": {
    "name": "ipython",
    "version": 3
   },
   "file_extension": ".py",
   "mimetype": "text/x-python",
   "name": "python",
   "nbconvert_exporter": "python",
   "pygments_lexer": "ipython3",
   "version": "3.8.8"
  },
  "orig_nbformat": 4,
  "vscode": {
   "interpreter": {
    "hash": "b6d03b160a02bc6190cc4ff94cf13fc7839bd39d9ee05d9b4d380bbb7cc69248"
   }
  }
 },
 "nbformat": 4,
 "nbformat_minor": 2
}
