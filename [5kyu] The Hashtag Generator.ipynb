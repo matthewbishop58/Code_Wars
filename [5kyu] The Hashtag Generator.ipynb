{
 "cells": [
  {
   "cell_type": "markdown",
   "metadata": {},
   "source": [
    "The marketing team is spending way too much time typing in hashtags.\n",
    "Let's help them with our own Hashtag Generator!\n",
    "\n",
    "Here's the deal:\n",
    "\n",
    "It must start with a hashtag (#).\n",
    "All words must have their first letter capitalized.\n",
    "If the final result is longer than 140 chars it must return false.\n",
    "If the input or the result is an empty string it must return false.\n",
    "Examples\n",
    "\" Hello there thanks for trying my Kata\"  =>  \"#HelloThereThanksForTryingMyKata\"\n",
    "\"    Hello     World   \"                  =>  \"#HelloWorld\"\n",
    "\"\"                                        =>  false"
   ]
  },
  {
   "cell_type": "code",
   "execution_count": 3,
   "metadata": {},
   "outputs": [],
   "source": [
    "def generate_hashtag(s):\n",
    "    if not s or len(s) > 140:\n",
    "        return False\n",
    "    \n",
    "    x = s.title().replace(\" \", \"\")\n",
    "    return \"{}{}\".format(\"#\", x)"
   ]
  },
  {
   "cell_type": "code",
   "execution_count": 4,
   "metadata": {},
   "outputs": [
    {
     "name": "stdout",
     "output_type": "stream",
     "text": [
      "False\n",
      "#DoWeHaveAHashtag\n",
      "#Codewars\n",
      "#Codewars\n",
      "#CodewarsIsNice\n",
      "#CodewarsIsNice\n",
      "#CodewarsIsNice\n",
      "#CIN\n",
      "#CodewarsIsNice\n",
      "False\n"
     ]
    }
   ],
   "source": [
    "print(generate_hashtag(''))\n",
    "print(generate_hashtag('Do We have A Hashtag'))\n",
    "print(generate_hashtag('Codewars'))\n",
    "print(generate_hashtag('Codewars      '))\n",
    "print(generate_hashtag('Codewars Is Nice'))\n",
    "print(generate_hashtag('codewars is nice'))\n",
    "print(generate_hashtag('CodeWars is nice'))\n",
    "print(generate_hashtag('c i n'))\n",
    "print(generate_hashtag('codewars  is  nice'))\n",
    "print(generate_hashtag('Looooooooooooooooooooooooooooooooooooooooooooooooooooooooooooooooooooooooooooooooooooooooooooooooooooooooooooooooooooooooooooooooooooooooooooooooooooooooooong Cat'))"
   ]
  },
  {
   "cell_type": "code",
   "execution_count": null,
   "metadata": {},
   "outputs": [],
   "source": []
  }
 ],
 "metadata": {
  "kernelspec": {
   "display_name": "Python 3.8.8 ('base')",
   "language": "python",
   "name": "python3"
  },
  "language_info": {
   "codemirror_mode": {
    "name": "ipython",
    "version": 3
   },
   "file_extension": ".py",
   "mimetype": "text/x-python",
   "name": "python",
   "nbconvert_exporter": "python",
   "pygments_lexer": "ipython3",
   "version": "3.8.8"
  },
  "orig_nbformat": 4,
  "vscode": {
   "interpreter": {
    "hash": "b6d03b160a02bc6190cc4ff94cf13fc7839bd39d9ee05d9b4d380bbb7cc69248"
   }
  }
 },
 "nbformat": 4,
 "nbformat_minor": 2
}
