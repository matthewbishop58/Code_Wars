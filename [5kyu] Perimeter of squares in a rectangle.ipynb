{
 "cells": [
  {
   "cell_type": "markdown",
   "metadata": {},
   "source": [
    "The drawing shows 6 squares the sides of which have a length of 1, 1, 2, 3, 5, 8. It's easy to see that the sum of the perimeters of these squares is : 4 * (1 + 1 + 2 + 3 + 5 + 8) = 4 * 20 = 80 \n",
    "\n",
    "Could you give the sum of the perimeters of all the squares in a rectangle when there are n + 1 squares disposed in the same manner as in the drawing:\n",
    "\n",
    "alternative text\n",
    "\n",
    "Hint:\n",
    "See Fibonacci sequence\n",
    "\n",
    "Ref:\n",
    "http://oeis.org/A000045\n",
    "\n",
    "The function perimeter has for parameter n where n + 1 is the number of squares (they are numbered from 0 to n) and returns the total perimeter of all the squares.\n",
    "\n",
    "perimeter(5)  should return 80\n",
    "perimeter(7)  should return 216"
   ]
  },
  {
   "cell_type": "code",
   "execution_count": 2,
   "metadata": {},
   "outputs": [],
   "source": [
    "def perimeter(n):\n",
    "    sum = 2\n",
    "    p1 = p2 = 1\n",
    "    for i in range(2, n+1):\n",
    "        temp = p2\n",
    "        p2 = p1 + p2\n",
    "        p1 = temp\n",
    "        sum += p2\n",
    "    return 4 * sum if n > 1 else 1"
   ]
  },
  {
   "cell_type": "code",
   "execution_count": 3,
   "metadata": {},
   "outputs": [
    {
     "name": "stdout",
     "output_type": "stream",
     "text": [
      "80 80\n",
      "216 216\n",
      "114624 114624\n",
      "14098308 14098308\n",
      "6002082144827584333104 6002082144827584333104\n",
      "2362425027542282167538999091770205712168371625660854753765546783141099308400948230006358531927265833165504 2362425027542282167538999091770205712168371625660854753765546783141099308400948230006358531927265833165504\n"
     ]
    }
   ],
   "source": [
    "print(perimeter(5), 80)\n",
    "print(perimeter(7), 216)\n",
    "print(perimeter(20), 114624)\n",
    "print(perimeter(30), 14098308)\n",
    "print(perimeter(100), 6002082144827584333104)\n",
    "print(perimeter(500), 2362425027542282167538999091770205712168371625660854753765546783141099308400948230006358531927265833165504)"
   ]
  },
  {
   "cell_type": "code",
   "execution_count": null,
   "metadata": {},
   "outputs": [],
   "source": []
  }
 ],
 "metadata": {
  "kernelspec": {
   "display_name": "Python 3.10.7 64-bit (microsoft store)",
   "language": "python",
   "name": "python3"
  },
  "language_info": {
   "codemirror_mode": {
    "name": "ipython",
    "version": 3
   },
   "file_extension": ".py",
   "mimetype": "text/x-python",
   "name": "python",
   "nbconvert_exporter": "python",
   "pygments_lexer": "ipython3",
   "version": "3.10.7"
  },
  "orig_nbformat": 4,
  "vscode": {
   "interpreter": {
    "hash": "b4d981aab3083155095c2c074466ed07152749282d0ee32df655ab9e7e91ca8e"
   }
  }
 },
 "nbformat": 4,
 "nbformat_minor": 2
}
