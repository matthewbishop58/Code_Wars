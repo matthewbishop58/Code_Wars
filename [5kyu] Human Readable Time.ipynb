{
 "cells": [
  {
   "cell_type": "markdown",
   "metadata": {},
   "source": [
    "Write a function, which takes a non-negative integer (seconds) as input and returns the time in a human-readable format (HH:MM:SS)\n",
    "\n",
    "HH = hours, padded to 2 digits, range: 00 - 99\n",
    "MM = minutes, padded to 2 digits, range: 00 - 59\n",
    "SS = seconds, padded to 2 digits, range: 00 - 59\n",
    "The maximum time never exceeds 359999 (99:59:59)\n",
    "\n",
    "You can find some examples in the test fixtures."
   ]
  },
  {
   "cell_type": "code",
   "execution_count": 1,
   "metadata": {},
   "outputs": [],
   "source": [
    "def make_readable(seconds):\n",
    "    h= seconds/60**2\n",
    "    m= (seconds%60**2)/60\n",
    "    s= (seconds%60**2%60)\n",
    "    return \"%02d:%02d:%02d\" % (h, m, s)"
   ]
  },
  {
   "cell_type": "code",
   "execution_count": 2,
   "metadata": {},
   "outputs": [
    {
     "name": "stdout",
     "output_type": "stream",
     "text": [
      "('00:00:00', '00:00:00')\n",
      "('00:00:05', '00:00:05')\n",
      "('00:01:00', '00:01:00')\n",
      "('23:59:59', '23:59:59')\n",
      "('99:59:59', '99:59:59')\n"
     ]
    }
   ],
   "source": [
    "print((make_readable(0), \"00:00:00\"))\n",
    "print((make_readable(5), \"00:00:05\"))\n",
    "print((make_readable(60), \"00:01:00\"))\n",
    "print((make_readable(86399), \"23:59:59\"))\n",
    "print((make_readable(359999), \"99:59:59\"))"
   ]
  },
  {
   "cell_type": "code",
   "execution_count": null,
   "metadata": {},
   "outputs": [],
   "source": []
  }
 ],
 "metadata": {
  "kernelspec": {
   "display_name": "Python 3.10.7 64-bit (microsoft store)",
   "language": "python",
   "name": "python3"
  },
  "language_info": {
   "codemirror_mode": {
    "name": "ipython",
    "version": 3
   },
   "file_extension": ".py",
   "mimetype": "text/x-python",
   "name": "python",
   "nbconvert_exporter": "python",
   "pygments_lexer": "ipython3",
   "version": "3.10.7"
  },
  "orig_nbformat": 4,
  "vscode": {
   "interpreter": {
    "hash": "b4d981aab3083155095c2c074466ed07152749282d0ee32df655ab9e7e91ca8e"
   }
  }
 },
 "nbformat": 4,
 "nbformat_minor": 2
}
