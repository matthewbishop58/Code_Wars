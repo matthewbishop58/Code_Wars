{
 "cells": [
  {
   "cell_type": "markdown",
   "metadata": {},
   "source": [
    "Complete the square sum function so that it squares each number passed into it and then sums the results together.\n",
    "\n",
    "For example, for [1, 2, 2] it should return 9 because 1^2 + 2^2 + 2^2 = 9."
   ]
  },
  {
   "cell_type": "code",
   "execution_count": null,
   "metadata": {},
   "outputs": [],
   "source": [
    "def square_sum(numbers):\n",
    "    return sum(x ** 2 for x in numbers)"
   ]
  }
 ],
 "metadata": {
  "kernelspec": {
   "display_name": "Python 3.8.8 ('base')",
   "language": "python",
   "name": "python3"
  },
  "language_info": {
   "name": "python",
   "version": "3.8.8"
  },
  "orig_nbformat": 4,
  "vscode": {
   "interpreter": {
    "hash": "b6d03b160a02bc6190cc4ff94cf13fc7839bd39d9ee05d9b4d380bbb7cc69248"
   }
  }
 },
 "nbformat": 4,
 "nbformat_minor": 2
}
