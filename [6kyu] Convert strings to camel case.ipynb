{
 "cells": [
  {
   "cell_type": "markdown",
   "metadata": {},
   "source": [
    "Complete the method/function so that it converts dash/underscore delimited words into camel casing. The first word within the output should be capitalized only if the original word was capitalized (known as Upper Camel Case, also often referred to as Pascal case).\n",
    "\n",
    "Examples\n",
    "\"the-stealth-warrior\" gets converted to \"theStealthWarrior\"\n",
    "\"The_Stealth_Warrior\" gets converted to \"TheStealthWarrior\"\n",
    "\n"
   ]
  },
  {
   "cell_type": "code",
   "execution_count": 1,
   "metadata": {},
   "outputs": [],
   "source": [
    "import re\n",
    "def to_camel_case(text):\n",
    "    words = re.split('_|-', text)\n",
    "    newwords = words[0]\n",
    "    for word in words[1:]:\n",
    "        newwords += word.capitalize()\n",
    "        \n",
    "    return''.join(newwords)"
   ]
  },
  {
   "cell_type": "code",
   "execution_count": 4,
   "metadata": {},
   "outputs": [
    {
     "name": "stdout",
     "output_type": "stream",
     "text": [
      "\n",
      "theStealthWarrior\n",
      "TheStealthWarrior\n",
      "ABC\n"
     ]
    }
   ],
   "source": [
    "print(to_camel_case(''))\n",
    "print(to_camel_case(\"the_stealth_warrior\"))\n",
    "print(to_camel_case(\"The-Stealth-Warrior\"))\n",
    "print(to_camel_case(\"A-B-C\"))"
   ]
  },
  {
   "cell_type": "code",
   "execution_count": null,
   "metadata": {},
   "outputs": [],
   "source": []
  }
 ],
 "metadata": {
  "kernelspec": {
   "display_name": "Python 3.10.7 64-bit (microsoft store)",
   "language": "python",
   "name": "python3"
  },
  "language_info": {
   "codemirror_mode": {
    "name": "ipython",
    "version": 3
   },
   "file_extension": ".py",
   "mimetype": "text/x-python",
   "name": "python",
   "nbconvert_exporter": "python",
   "pygments_lexer": "ipython3",
   "version": "3.10.7"
  },
  "orig_nbformat": 4,
  "vscode": {
   "interpreter": {
    "hash": "b4d981aab3083155095c2c074466ed07152749282d0ee32df655ab9e7e91ca8e"
   }
  }
 },
 "nbformat": 4,
 "nbformat_minor": 2
}
