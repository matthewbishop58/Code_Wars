{
 "cells": [
  {
   "cell_type": "markdown",
   "metadata": {},
   "source": [
    "Your task is to make function, which returns the sum of a sequence of integers.\n",
    "\n",
    "The sequence is defined by 3 non-negative values: begin, end, step (inclusive).\n",
    "\n",
    "If begin value is greater than the end, function should returns 0\n",
    "\n",
    "Examples\n",
    "\n",
    "2,2,2 --> 2\n",
    "2,6,2 --> 12 (2 + 4 + 6)\n",
    "1,5,1 --> 15 (1 + 2 + 3 + 4 + 5)\n",
    "1,5,3  --> 5 (1 + 4)"
   ]
  },
  {
   "cell_type": "code",
   "execution_count": null,
   "metadata": {},
   "outputs": [],
   "source": [
    "def sequence_sum(begin_number, end_number, step):\n",
    "    return sum(range(begin_number, end_number +1, step))"
   ]
  }
 ],
 "metadata": {
  "language_info": {
   "name": "python"
  },
  "orig_nbformat": 4
 },
 "nbformat": 4,
 "nbformat_minor": 2
}
