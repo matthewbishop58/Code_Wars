{
 "cells": [
  {
   "cell_type": "markdown",
   "metadata": {},
   "source": [
    "Create a RomanNumerals class that can convert a roman numeral to and from an integer value. It should follow the API demonstrated in the examples below. Multiple roman numeral values will be tested for each helper method.\n",
    "\n",
    "Modern Roman numerals are written by expressing each digit separately starting with the left most digit and skipping any digit with a value of zero. In Roman numerals 1990 is rendered: 1000=M, 900=CM, 90=XC; resulting in MCMXC. 2008 is written as 2000=MM, 8=VIII; or MMVIII. 1666 uses each Roman symbol in descending order: MDCLXVI.\n",
    "\n",
    "Input range : 1 <= n < 4000\n",
    "\n",
    "In this kata 4 should be represented as IV, NOT as IIII (the \"watchmaker's four\").\n",
    "\n",
    "Examples\n",
    "RomanNumerals.to_roman(1000) # should return 'M'\n",
    "RomanNumerals.from_roman('M') # should return 1000\n",
    "Help\n",
    "Symbol\tValue\n",
    "I\t1\n",
    "IV\t4\n",
    "V\t5\n",
    "X\t10\n",
    "L\t50\n",
    "C\t100\n",
    "D\t500\n",
    "M\t1000"
   ]
  },
  {
   "cell_type": "code",
   "execution_count": 45,
   "metadata": {},
   "outputs": [],
   "source": [
    "class RomanNumerals:\n",
    "    m = ['', 'M', 'MM', 'MMM']\n",
    "    c = ['', 'C', 'CC', 'CCC', 'CD', 'D', 'DC', 'DCC', 'DCCC', 'CM']\n",
    "    x = ['', 'X', 'XX', 'XXX', 'XL', 'L', 'LX', 'LXX', 'LXXX', 'XC']\n",
    "    i = ['', 'I', 'II', 'III', 'IV', 'V', 'VI','VII', 'VIII', 'IX']\n",
    "\n",
    "    def to_roman(val):\n",
    "        thousands = RomanNumerals.m[val // 1000]\n",
    "        hundreds = RomanNumerals.c[(val % 1000) // 100]\n",
    "        tens = RomanNumerals.x[(val % 100) // 10]\n",
    "        ones = RomanNumerals.i[val % 10]\n",
    "\n",
    "     \n",
    "        \n",
    "        return (thousands + hundreds + tens + ones)\n",
    "    \n",
    "\n",
    "    def from_roman(roman_num):\n",
    "        value_map = {'I': 1, 'V': 5, 'X': 10, 'L': 50, 'C': 100, 'D' : 500, 'M': 1000} \n",
    "        value = 0\n",
    "        last_digit_value = 0\n",
    "\n",
    "        for digit in roman_num[::-1]:\n",
    "            digit_value = value_map[digit]\n",
    "\n",
    "            if digit_value >= last_digit_value:\n",
    "                value += digit_value\n",
    "                last_digit_value = digit_value\n",
    "            else:\n",
    "                value -= digit_value\n",
    "        return value\n",
    "\n"
   ]
  },
  {
   "cell_type": "code",
   "execution_count": 46,
   "metadata": {},
   "outputs": [
    {
     "name": "stdout",
     "output_type": "stream",
     "text": [
      "M M\n",
      "IV IV\n",
      "I I\n",
      "MCMXC MCMXC\n",
      "MMIX MMVIII\n",
      "21 21\n",
      "1 1\n",
      "4 4\n",
      "2008 2008\n",
      "1666 1666\n"
     ]
    }
   ],
   "source": [
    "print(RomanNumerals.to_roman(1000), 'M')\n",
    "print(RomanNumerals.to_roman(4), 'IV')\n",
    "print(RomanNumerals.to_roman(1), 'I')\n",
    "print(RomanNumerals.to_roman(1990), 'MCMXC')\n",
    "print(RomanNumerals.to_roman(2008), 'MMVIII')\n",
    "\n",
    "print(RomanNumerals.from_roman('XXI'), 21)\n",
    "print(RomanNumerals.from_roman('I'), 1)\n",
    "print(RomanNumerals.from_roman('IV'), 4)\n",
    "print(RomanNumerals.from_roman('MMVIII'), 2008)\n",
    "print(RomanNumerals.from_roman('MDCLXVI'), 1666)"
   ]
  },
  {
   "cell_type": "code",
   "execution_count": null,
   "metadata": {},
   "outputs": [],
   "source": []
  }
 ],
 "metadata": {
  "kernelspec": {
   "display_name": "Python 3.10.8 64-bit (microsoft store)",
   "language": "python",
   "name": "python3"
  },
  "language_info": {
   "codemirror_mode": {
    "name": "ipython",
    "version": 3
   },
   "file_extension": ".py",
   "mimetype": "text/x-python",
   "name": "python",
   "nbconvert_exporter": "python",
   "pygments_lexer": "ipython3",
   "version": "3.10.8"
  },
  "orig_nbformat": 4,
  "vscode": {
   "interpreter": {
    "hash": "b4d981aab3083155095c2c074466ed07152749282d0ee32df655ab9e7e91ca8e"
   }
  }
 },
 "nbformat": 4,
 "nbformat_minor": 2
}
